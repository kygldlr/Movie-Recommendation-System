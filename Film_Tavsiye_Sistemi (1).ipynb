{
  "nbformat": 4,
  "nbformat_minor": 0,
  "metadata": {
    "colab": {
      "provenance": []
    },
    "kernelspec": {
      "name": "python3",
      "display_name": "Python 3"
    },
    "language_info": {
      "name": "python"
    }
  },
  "cells": [
    {
      "cell_type": "code",
      "execution_count": 65,
      "metadata": {
        "id": "8EEj3YT9rz0i"
      },
      "outputs": [],
      "source": [
        "import sqlite3\n",
        "import pandas as pd\n",
        "import numpy as np\n",
        "from sklearn.impute import SimpleImputer\n",
        "from sklearn.preprocessing import LabelEncoder\n",
        "from sklearn.feature_extraction.text import TfidfVectorizer\n",
        "from sklearn.metrics.pairwise import cosine_similarity\n",
        "from sklearn.preprocessing import MultiLabelBinarizer\n",
        "import torch.nn as nn\n",
        "import torch\n",
        "import torch.optim as optim\n"
      ]
    },
    {
      "cell_type": "code",
      "source": [],
      "metadata": {
        "id": "iqxciRyDs3Zi"
      },
      "execution_count": 65,
      "outputs": []
    },
    {
      "cell_type": "markdown",
      "source": [
        "# Veri Ön İşleme"
      ],
      "metadata": {
        "id": "5RbIFTtqs40A"
      }
    },
    {
      "cell_type": "code",
      "source": [
        "# JSON dosyasını okuma\n",
        "df = pd.read_json(\"/content/metacriticall.json\")"
      ],
      "metadata": {
        "id": "2WbYW9c2s7wb"
      },
      "execution_count": 66,
      "outputs": []
    },
    {
      "cell_type": "code",
      "source": [
        "df.head()"
      ],
      "metadata": {
        "colab": {
          "base_uri": "https://localhost:8080/",
          "height": 573
        },
        "id": "_wZlSIFws9Zd",
        "outputId": "05457f05-8602-49df-ddd5-cab590f2e6d1"
      },
      "execution_count": 67,
      "outputs": [
        {
          "output_type": "execute_result",
          "data": {
            "text/plain": [
              "                          title metascore user_score    year  \\\n",
              "0                 Seven Samurai        98        9.0  1956.0   \n",
              "1                     Pinocchio        99        8.2  1940.0   \n",
              "2  4 Months, 3 Weeks and 2 Days        97        8.0  2008.0   \n",
              "3                        Psycho        97        8.9  1960.0   \n",
              "4                   Ratatouille        96        8.5  2007.0   \n",
              "\n",
              "                                             summary  \\\n",
              "0  Seven Samurai (Shichinin no samurai) tells the...   \n",
              "1  A living puppet, with the help of a cricket as...   \n",
              "2  During the final days of communism in Romania,...   \n",
              "3  A Phoenix secretary embezzles $40,000 from her...   \n",
              "4  Despite his sensational sniffer and sophistica...   \n",
              "\n",
              "                                  production_company  release_date  duration  \\\n",
              "0                                               Toho  Nov 19, 1956  3 h 27 m   \n",
              "1                      Walt Disney Animation Studios  Feb 23, 1940  1 h 28 m   \n",
              "2  Mobra Films,\\n        Centrul National al Cine...  Jan 23, 2008  1 h 53 m   \n",
              "3  Alfred J. Hitchcock Productions,\\n        Sham...   Sep 8, 1960  1 h 49 m   \n",
              "4  Walt Disney Pictures,\\n        Pixar Animation...  Jun 29, 2007  1 h 51 m   \n",
              "\n",
              "      rating                                             genres  \\\n",
              "0  Not Rated                                    [Action, Drama]   \n",
              "1     Passed  [Animation, Adventure, Comedy, Family, Fantasy...   \n",
              "2  Not Rated                                            [Drama]   \n",
              "3      TV-14                        [Horror, Mystery, Thriller]   \n",
              "4       TV-G    [Animation, Adventure, Comedy, Family, Fantasy]   \n",
              "\n",
              "                                                 url  \n",
              "0  https://www.metacritic.com/movie/seven-samurai...  \n",
              "1   https://www.metacritic.com/movie/pinocchio-1940/  \n",
              "2  https://www.metacritic.com/movie/4-months-3-we...  \n",
              "3      https://www.metacritic.com/movie/psycho-1960/  \n",
              "4      https://www.metacritic.com/movie/ratatouille/  "
            ],
            "text/html": [
              "\n",
              "  <div id=\"df-9654a939-523d-4c39-8bcd-cd6e38f357a6\" class=\"colab-df-container\">\n",
              "    <div>\n",
              "<style scoped>\n",
              "    .dataframe tbody tr th:only-of-type {\n",
              "        vertical-align: middle;\n",
              "    }\n",
              "\n",
              "    .dataframe tbody tr th {\n",
              "        vertical-align: top;\n",
              "    }\n",
              "\n",
              "    .dataframe thead th {\n",
              "        text-align: right;\n",
              "    }\n",
              "</style>\n",
              "<table border=\"1\" class=\"dataframe\">\n",
              "  <thead>\n",
              "    <tr style=\"text-align: right;\">\n",
              "      <th></th>\n",
              "      <th>title</th>\n",
              "      <th>metascore</th>\n",
              "      <th>user_score</th>\n",
              "      <th>year</th>\n",
              "      <th>summary</th>\n",
              "      <th>production_company</th>\n",
              "      <th>release_date</th>\n",
              "      <th>duration</th>\n",
              "      <th>rating</th>\n",
              "      <th>genres</th>\n",
              "      <th>url</th>\n",
              "    </tr>\n",
              "  </thead>\n",
              "  <tbody>\n",
              "    <tr>\n",
              "      <th>0</th>\n",
              "      <td>Seven Samurai</td>\n",
              "      <td>98</td>\n",
              "      <td>9.0</td>\n",
              "      <td>1956.0</td>\n",
              "      <td>Seven Samurai (Shichinin no samurai) tells the...</td>\n",
              "      <td>Toho</td>\n",
              "      <td>Nov 19, 1956</td>\n",
              "      <td>3 h 27 m</td>\n",
              "      <td>Not Rated</td>\n",
              "      <td>[Action, Drama]</td>\n",
              "      <td>https://www.metacritic.com/movie/seven-samurai...</td>\n",
              "    </tr>\n",
              "    <tr>\n",
              "      <th>1</th>\n",
              "      <td>Pinocchio</td>\n",
              "      <td>99</td>\n",
              "      <td>8.2</td>\n",
              "      <td>1940.0</td>\n",
              "      <td>A living puppet, with the help of a cricket as...</td>\n",
              "      <td>Walt Disney Animation Studios</td>\n",
              "      <td>Feb 23, 1940</td>\n",
              "      <td>1 h 28 m</td>\n",
              "      <td>Passed</td>\n",
              "      <td>[Animation, Adventure, Comedy, Family, Fantasy...</td>\n",
              "      <td>https://www.metacritic.com/movie/pinocchio-1940/</td>\n",
              "    </tr>\n",
              "    <tr>\n",
              "      <th>2</th>\n",
              "      <td>4 Months, 3 Weeks and 2 Days</td>\n",
              "      <td>97</td>\n",
              "      <td>8.0</td>\n",
              "      <td>2008.0</td>\n",
              "      <td>During the final days of communism in Romania,...</td>\n",
              "      <td>Mobra Films,\\n        Centrul National al Cine...</td>\n",
              "      <td>Jan 23, 2008</td>\n",
              "      <td>1 h 53 m</td>\n",
              "      <td>Not Rated</td>\n",
              "      <td>[Drama]</td>\n",
              "      <td>https://www.metacritic.com/movie/4-months-3-we...</td>\n",
              "    </tr>\n",
              "    <tr>\n",
              "      <th>3</th>\n",
              "      <td>Psycho</td>\n",
              "      <td>97</td>\n",
              "      <td>8.9</td>\n",
              "      <td>1960.0</td>\n",
              "      <td>A Phoenix secretary embezzles $40,000 from her...</td>\n",
              "      <td>Alfred J. Hitchcock Productions,\\n        Sham...</td>\n",
              "      <td>Sep 8, 1960</td>\n",
              "      <td>1 h 49 m</td>\n",
              "      <td>TV-14</td>\n",
              "      <td>[Horror, Mystery, Thriller]</td>\n",
              "      <td>https://www.metacritic.com/movie/psycho-1960/</td>\n",
              "    </tr>\n",
              "    <tr>\n",
              "      <th>4</th>\n",
              "      <td>Ratatouille</td>\n",
              "      <td>96</td>\n",
              "      <td>8.5</td>\n",
              "      <td>2007.0</td>\n",
              "      <td>Despite his sensational sniffer and sophistica...</td>\n",
              "      <td>Walt Disney Pictures,\\n        Pixar Animation...</td>\n",
              "      <td>Jun 29, 2007</td>\n",
              "      <td>1 h 51 m</td>\n",
              "      <td>TV-G</td>\n",
              "      <td>[Animation, Adventure, Comedy, Family, Fantasy]</td>\n",
              "      <td>https://www.metacritic.com/movie/ratatouille/</td>\n",
              "    </tr>\n",
              "  </tbody>\n",
              "</table>\n",
              "</div>\n",
              "    <div class=\"colab-df-buttons\">\n",
              "\n",
              "  <div class=\"colab-df-container\">\n",
              "    <button class=\"colab-df-convert\" onclick=\"convertToInteractive('df-9654a939-523d-4c39-8bcd-cd6e38f357a6')\"\n",
              "            title=\"Convert this dataframe to an interactive table.\"\n",
              "            style=\"display:none;\">\n",
              "\n",
              "  <svg xmlns=\"http://www.w3.org/2000/svg\" height=\"24px\" viewBox=\"0 -960 960 960\">\n",
              "    <path d=\"M120-120v-720h720v720H120Zm60-500h600v-160H180v160Zm220 220h160v-160H400v160Zm0 220h160v-160H400v160ZM180-400h160v-160H180v160Zm440 0h160v-160H620v160ZM180-180h160v-160H180v160Zm440 0h160v-160H620v160Z\"/>\n",
              "  </svg>\n",
              "    </button>\n",
              "\n",
              "  <style>\n",
              "    .colab-df-container {\n",
              "      display:flex;\n",
              "      gap: 12px;\n",
              "    }\n",
              "\n",
              "    .colab-df-convert {\n",
              "      background-color: #E8F0FE;\n",
              "      border: none;\n",
              "      border-radius: 50%;\n",
              "      cursor: pointer;\n",
              "      display: none;\n",
              "      fill: #1967D2;\n",
              "      height: 32px;\n",
              "      padding: 0 0 0 0;\n",
              "      width: 32px;\n",
              "    }\n",
              "\n",
              "    .colab-df-convert:hover {\n",
              "      background-color: #E2EBFA;\n",
              "      box-shadow: 0px 1px 2px rgba(60, 64, 67, 0.3), 0px 1px 3px 1px rgba(60, 64, 67, 0.15);\n",
              "      fill: #174EA6;\n",
              "    }\n",
              "\n",
              "    .colab-df-buttons div {\n",
              "      margin-bottom: 4px;\n",
              "    }\n",
              "\n",
              "    [theme=dark] .colab-df-convert {\n",
              "      background-color: #3B4455;\n",
              "      fill: #D2E3FC;\n",
              "    }\n",
              "\n",
              "    [theme=dark] .colab-df-convert:hover {\n",
              "      background-color: #434B5C;\n",
              "      box-shadow: 0px 1px 3px 1px rgba(0, 0, 0, 0.15);\n",
              "      filter: drop-shadow(0px 1px 2px rgba(0, 0, 0, 0.3));\n",
              "      fill: #FFFFFF;\n",
              "    }\n",
              "  </style>\n",
              "\n",
              "    <script>\n",
              "      const buttonEl =\n",
              "        document.querySelector('#df-9654a939-523d-4c39-8bcd-cd6e38f357a6 button.colab-df-convert');\n",
              "      buttonEl.style.display =\n",
              "        google.colab.kernel.accessAllowed ? 'block' : 'none';\n",
              "\n",
              "      async function convertToInteractive(key) {\n",
              "        const element = document.querySelector('#df-9654a939-523d-4c39-8bcd-cd6e38f357a6');\n",
              "        const dataTable =\n",
              "          await google.colab.kernel.invokeFunction('convertToInteractive',\n",
              "                                                    [key], {});\n",
              "        if (!dataTable) return;\n",
              "\n",
              "        const docLinkHtml = 'Like what you see? Visit the ' +\n",
              "          '<a target=\"_blank\" href=https://colab.research.google.com/notebooks/data_table.ipynb>data table notebook</a>'\n",
              "          + ' to learn more about interactive tables.';\n",
              "        element.innerHTML = '';\n",
              "        dataTable['output_type'] = 'display_data';\n",
              "        await google.colab.output.renderOutput(dataTable, element);\n",
              "        const docLink = document.createElement('div');\n",
              "        docLink.innerHTML = docLinkHtml;\n",
              "        element.appendChild(docLink);\n",
              "      }\n",
              "    </script>\n",
              "  </div>\n",
              "\n",
              "\n",
              "<div id=\"df-72acd5ff-0f0c-467e-844b-aa870ea76521\">\n",
              "  <button class=\"colab-df-quickchart\" onclick=\"quickchart('df-72acd5ff-0f0c-467e-844b-aa870ea76521')\"\n",
              "            title=\"Suggest charts\"\n",
              "            style=\"display:none;\">\n",
              "\n",
              "<svg xmlns=\"http://www.w3.org/2000/svg\" height=\"24px\"viewBox=\"0 0 24 24\"\n",
              "     width=\"24px\">\n",
              "    <g>\n",
              "        <path d=\"M19 3H5c-1.1 0-2 .9-2 2v14c0 1.1.9 2 2 2h14c1.1 0 2-.9 2-2V5c0-1.1-.9-2-2-2zM9 17H7v-7h2v7zm4 0h-2V7h2v10zm4 0h-2v-4h2v4z\"/>\n",
              "    </g>\n",
              "</svg>\n",
              "  </button>\n",
              "\n",
              "<style>\n",
              "  .colab-df-quickchart {\n",
              "      --bg-color: #E8F0FE;\n",
              "      --fill-color: #1967D2;\n",
              "      --hover-bg-color: #E2EBFA;\n",
              "      --hover-fill-color: #174EA6;\n",
              "      --disabled-fill-color: #AAA;\n",
              "      --disabled-bg-color: #DDD;\n",
              "  }\n",
              "\n",
              "  [theme=dark] .colab-df-quickchart {\n",
              "      --bg-color: #3B4455;\n",
              "      --fill-color: #D2E3FC;\n",
              "      --hover-bg-color: #434B5C;\n",
              "      --hover-fill-color: #FFFFFF;\n",
              "      --disabled-bg-color: #3B4455;\n",
              "      --disabled-fill-color: #666;\n",
              "  }\n",
              "\n",
              "  .colab-df-quickchart {\n",
              "    background-color: var(--bg-color);\n",
              "    border: none;\n",
              "    border-radius: 50%;\n",
              "    cursor: pointer;\n",
              "    display: none;\n",
              "    fill: var(--fill-color);\n",
              "    height: 32px;\n",
              "    padding: 0;\n",
              "    width: 32px;\n",
              "  }\n",
              "\n",
              "  .colab-df-quickchart:hover {\n",
              "    background-color: var(--hover-bg-color);\n",
              "    box-shadow: 0 1px 2px rgba(60, 64, 67, 0.3), 0 1px 3px 1px rgba(60, 64, 67, 0.15);\n",
              "    fill: var(--button-hover-fill-color);\n",
              "  }\n",
              "\n",
              "  .colab-df-quickchart-complete:disabled,\n",
              "  .colab-df-quickchart-complete:disabled:hover {\n",
              "    background-color: var(--disabled-bg-color);\n",
              "    fill: var(--disabled-fill-color);\n",
              "    box-shadow: none;\n",
              "  }\n",
              "\n",
              "  .colab-df-spinner {\n",
              "    border: 2px solid var(--fill-color);\n",
              "    border-color: transparent;\n",
              "    border-bottom-color: var(--fill-color);\n",
              "    animation:\n",
              "      spin 1s steps(1) infinite;\n",
              "  }\n",
              "\n",
              "  @keyframes spin {\n",
              "    0% {\n",
              "      border-color: transparent;\n",
              "      border-bottom-color: var(--fill-color);\n",
              "      border-left-color: var(--fill-color);\n",
              "    }\n",
              "    20% {\n",
              "      border-color: transparent;\n",
              "      border-left-color: var(--fill-color);\n",
              "      border-top-color: var(--fill-color);\n",
              "    }\n",
              "    30% {\n",
              "      border-color: transparent;\n",
              "      border-left-color: var(--fill-color);\n",
              "      border-top-color: var(--fill-color);\n",
              "      border-right-color: var(--fill-color);\n",
              "    }\n",
              "    40% {\n",
              "      border-color: transparent;\n",
              "      border-right-color: var(--fill-color);\n",
              "      border-top-color: var(--fill-color);\n",
              "    }\n",
              "    60% {\n",
              "      border-color: transparent;\n",
              "      border-right-color: var(--fill-color);\n",
              "    }\n",
              "    80% {\n",
              "      border-color: transparent;\n",
              "      border-right-color: var(--fill-color);\n",
              "      border-bottom-color: var(--fill-color);\n",
              "    }\n",
              "    90% {\n",
              "      border-color: transparent;\n",
              "      border-bottom-color: var(--fill-color);\n",
              "    }\n",
              "  }\n",
              "</style>\n",
              "\n",
              "  <script>\n",
              "    async function quickchart(key) {\n",
              "      const quickchartButtonEl =\n",
              "        document.querySelector('#' + key + ' button');\n",
              "      quickchartButtonEl.disabled = true;  // To prevent multiple clicks.\n",
              "      quickchartButtonEl.classList.add('colab-df-spinner');\n",
              "      try {\n",
              "        const charts = await google.colab.kernel.invokeFunction(\n",
              "            'suggestCharts', [key], {});\n",
              "      } catch (error) {\n",
              "        console.error('Error during call to suggestCharts:', error);\n",
              "      }\n",
              "      quickchartButtonEl.classList.remove('colab-df-spinner');\n",
              "      quickchartButtonEl.classList.add('colab-df-quickchart-complete');\n",
              "    }\n",
              "    (() => {\n",
              "      let quickchartButtonEl =\n",
              "        document.querySelector('#df-72acd5ff-0f0c-467e-844b-aa870ea76521 button');\n",
              "      quickchartButtonEl.style.display =\n",
              "        google.colab.kernel.accessAllowed ? 'block' : 'none';\n",
              "    })();\n",
              "  </script>\n",
              "</div>\n",
              "\n",
              "    </div>\n",
              "  </div>\n"
            ],
            "application/vnd.google.colaboratory.intrinsic+json": {
              "type": "dataframe",
              "variable_name": "df",
              "summary": "{\n  \"name\": \"df\",\n  \"rows\": 16363,\n  \"fields\": [\n    {\n      \"column\": \"title\",\n      \"properties\": {\n        \"dtype\": \"string\",\n        \"num_unique_values\": 15789,\n        \"samples\": [\n          \"Pusher\",\n          \"Eno\",\n          \"Hair\"\n        ],\n        \"semantic_type\": \"\",\n        \"description\": \"\"\n      }\n    },\n    {\n      \"column\": \"metascore\",\n      \"properties\": {\n        \"dtype\": \"category\",\n        \"num_unique_values\": 99,\n        \"samples\": [\n          \"37\",\n          \"59\",\n          \"9\"\n        ],\n        \"semantic_type\": \"\",\n        \"description\": \"\"\n      }\n    },\n    {\n      \"column\": \"user_score\",\n      \"properties\": {\n        \"dtype\": \"category\",\n        \"num_unique_values\": 94,\n        \"samples\": [\n          \"5.9\",\n          \"8.3\",\n          \"2.5\"\n        ],\n        \"semantic_type\": \"\",\n        \"description\": \"\"\n      }\n    },\n    {\n      \"column\": \"year\",\n      \"properties\": {\n        \"dtype\": \"number\",\n        \"std\": 15.16826131117932,\n        \"min\": 1916.0,\n        \"max\": 2024.0,\n        \"num_unique_values\": 99,\n        \"samples\": [\n          1998.0,\n          2009.0,\n          1944.0\n        ],\n        \"semantic_type\": \"\",\n        \"description\": \"\"\n      }\n    },\n    {\n      \"column\": \"summary\",\n      \"properties\": {\n        \"dtype\": \"string\",\n        \"num_unique_values\": 16359,\n        \"samples\": [\n          \"An unlikely basketball team of unappreciated middle-aged Texas women, all former high school champs, challenge the current arrogant high school state champs to a series of games to raise money for breast cancer prevention.\",\n          \"A quantum physicist (Mary-Louise Parker) finds herself stuck in a time loop, with a black hole growing in her chest and only a week to live. When she meets a gifted student (Ayo Edibiri), they team up to save her life \\u2014 and to unlock the mysteries of time travel.\",\n          \"Ronnie runs a Disco walking tour with his son, Brayden. When a sexy woman takes the tour, it begins a competition between father and son for her love. It also signals the arrival of an oily strangler who stalks the streets at night.\"\n        ],\n        \"semantic_type\": \"\",\n        \"description\": \"\"\n      }\n    },\n    {\n      \"column\": \"production_company\",\n      \"properties\": {\n        \"dtype\": \"string\",\n        \"num_unique_values\": 14875,\n        \"samples\": [\n          \"Blumhouse Productions,\\n        Ahimsa Films,\\n        Blue-Tongue Films\",\n          \"CinemaNX,\\n        Isle of Man Film\",\n          \"Arcady Bay Entertainment,\\n        CineDiaz,\\n        Defining Entertainment,\\n        Game 7 Films,\\n        ITVS International,\\n        String and Can\"\n        ],\n        \"semantic_type\": \"\",\n        \"description\": \"\"\n      }\n    },\n    {\n      \"column\": \"release_date\",\n      \"properties\": {\n        \"dtype\": \"object\",\n        \"num_unique_values\": 4434,\n        \"samples\": [\n          \"Jan 26, 2023\",\n          \"Jul 6, 1990\",\n          \"Sep 10, 2014\"\n        ],\n        \"semantic_type\": \"\",\n        \"description\": \"\"\n      }\n    },\n    {\n      \"column\": \"duration\",\n      \"properties\": {\n        \"dtype\": \"category\",\n        \"num_unique_values\": 202,\n        \"samples\": [\n          \"1 h 15 m\",\n          \"1 h 34 m\",\n          \"3 h 26 m\"\n        ],\n        \"semantic_type\": \"\",\n        \"description\": \"\"\n      }\n    },\n    {\n      \"column\": \"rating\",\n      \"properties\": {\n        \"dtype\": \"category\",\n        \"num_unique_values\": 24,\n        \"samples\": [\n          \"PG\",\n          \"16+\",\n          \"Not Rated\"\n        ],\n        \"semantic_type\": \"\",\n        \"description\": \"\"\n      }\n    },\n    {\n      \"column\": \"genres\",\n      \"properties\": {\n        \"dtype\": \"object\",\n        \"semantic_type\": \"\",\n        \"description\": \"\"\n      }\n    },\n    {\n      \"column\": \"url\",\n      \"properties\": {\n        \"dtype\": \"string\",\n        \"num_unique_values\": 16363,\n        \"samples\": [\n          \"https://www.metacritic.com/movie/willard/\",\n          \"https://www.metacritic.com/movie/an-affair-of-love/\",\n          \"https://www.metacritic.com/movie/fort-apache-the-bronx/\"\n        ],\n        \"semantic_type\": \"\",\n        \"description\": \"\"\n      }\n    }\n  ]\n}"
            }
          },
          "metadata": {},
          "execution_count": 67
        }
      ]
    },
    {
      "cell_type": "markdown",
      "source": [
        "Şuan da verimizde sütün değerleri genres gibi birden fazla değer içeren sütun bulunduğundan dataframe'e çevirdiğimizde object türünde gözüküyor."
      ],
      "metadata": {
        "id": "3tqDtL9atDaW"
      }
    },
    {
      "cell_type": "code",
      "source": [
        "print(df.dtypes)"
      ],
      "metadata": {
        "colab": {
          "base_uri": "https://localhost:8080/"
        },
        "id": "gP8S_pUSs-uq",
        "outputId": "21cc5526-e75a-46eb-a783-619027182040"
      },
      "execution_count": 68,
      "outputs": [
        {
          "output_type": "stream",
          "name": "stdout",
          "text": [
            "title                  object\n",
            "metascore              object\n",
            "user_score             object\n",
            "year                  float64\n",
            "summary                object\n",
            "production_company     object\n",
            "release_date           object\n",
            "duration               object\n",
            "rating                 object\n",
            "genres                 object\n",
            "url                    object\n",
            "dtype: object\n"
          ]
        }
      ]
    },
    {
      "cell_type": "code",
      "source": [],
      "metadata": {
        "id": "j8YN4lk7tElP"
      },
      "execution_count": 68,
      "outputs": []
    },
    {
      "cell_type": "markdown",
      "source": [
        "Bazı sütunlarda boş değer bulunuyor."
      ],
      "metadata": {
        "id": "niL9UHzJtiBu"
      }
    },
    {
      "cell_type": "code",
      "source": [
        "print(df.isnull().sum())"
      ],
      "metadata": {
        "colab": {
          "base_uri": "https://localhost:8080/"
        },
        "id": "xp0ElDXptiyn",
        "outputId": "3a73ddcd-173e-4f1e-cef5-4da8b64f5805"
      },
      "execution_count": 69,
      "outputs": [
        {
          "output_type": "stream",
          "name": "stdout",
          "text": [
            "title                    0\n",
            "metascore                0\n",
            "user_score               2\n",
            "year                   108\n",
            "summary                  0\n",
            "production_company     234\n",
            "release_date           108\n",
            "duration                 4\n",
            "rating                1499\n",
            "genres                   6\n",
            "url                      0\n",
            "dtype: int64\n"
          ]
        }
      ]
    },
    {
      "cell_type": "markdown",
      "source": [
        "İlk olarak sayısal sütunları düzenliyoruz. 'metascore', 'user_score' ve 'year' sütunlarını sayısal veri tipine dönüştürüyoruz."
      ],
      "metadata": {
        "id": "rk6sEzwjtn8A"
      }
    },
    {
      "cell_type": "code",
      "source": [
        "#Sayısal veri tiplerimizi integer ve float veri tipine dönüştürüyoruz.\n",
        "df['metascore'] = pd.to_numeric(df['metascore'], errors='coerce')\n",
        "df['user_score'] = pd.to_numeric(df['user_score'], errors='coerce')                #Sayı formatına uygun olmayanları NaN ile dolduruyoruz.\n",
        "df['year'] = pd.to_numeric(df['year'], errors='coerce')"
      ],
      "metadata": {
        "id": "MCatkrLctotj"
      },
      "execution_count": 70,
      "outputs": []
    },
    {
      "cell_type": "code",
      "source": [],
      "metadata": {
        "id": "5LkIn3aUtqv1"
      },
      "execution_count": 70,
      "outputs": []
    },
    {
      "cell_type": "markdown",
      "source": [
        "Ardından sayısal verilerdeki boş değerler için median ile dolduruyoruz."
      ],
      "metadata": {
        "id": "k3m5xvD-ts84"
      }
    },
    {
      "cell_type": "code",
      "source": [
        "#Veri setimizdeki saysısal vri türlerini buluyoruz.\n",
        "numerical_columns = df.select_dtypes(include=['float64', 'int64']).columns\n",
        "\n",
        "#Sayısal veri setimizdeki eksik değerleri median ile dolduruyoruz.\n",
        "median_imputers = SimpleImputer(strategy='median')\n",
        "df[numerical_columns] = median_imputers.fit_transform(df[numerical_columns])"
      ],
      "metadata": {
        "id": "e0EXZdetuGCd"
      },
      "execution_count": 71,
      "outputs": []
    },
    {
      "cell_type": "code",
      "source": [
        "print(df.isnull().sum())"
      ],
      "metadata": {
        "colab": {
          "base_uri": "https://localhost:8080/"
        },
        "id": "lKWpXd1LuJY3",
        "outputId": "0ac59432-e4f8-48c2-aab0-6b84d3196db3"
      },
      "execution_count": 72,
      "outputs": [
        {
          "output_type": "stream",
          "name": "stdout",
          "text": [
            "title                    0\n",
            "metascore                0\n",
            "user_score               0\n",
            "year                     0\n",
            "summary                  0\n",
            "production_company     234\n",
            "release_date           108\n",
            "duration                 4\n",
            "rating                1499\n",
            "genres                   6\n",
            "url                      0\n",
            "dtype: int64\n"
          ]
        }
      ]
    },
    {
      "cell_type": "markdown",
      "source": [
        "Object veri türündeki boşluklarımızı boşluk değeri yada unknown değeri atıyoruz. Modelimizin durumuna göre değer atayabiliriz.İstersek en sık kullanılan ifadeler şeklinde de bir atama yapabiliriz ama kullandığım veri seti film veri seti olduğu için genellikle özgün değerlerden oluşuyor."
      ],
      "metadata": {
        "id": "RJ1YDVonuKhu"
      }
    },
    {
      "cell_type": "code",
      "source": [
        "df['summary'] = df['summary'].fillna('')\n",
        "df['production_company'] = df['production_company'].fillna('')\n",
        "df['release_date'] = df['release_date'].fillna('')\n",
        "df['duration'] = df['duration'].fillna('')\n",
        "df['rating'] = df['rating'].fillna('unknown')\n",
        "df['genres']=df['genres'].fillna('')"
      ],
      "metadata": {
        "id": "osuRJqN6uMrD"
      },
      "execution_count": 73,
      "outputs": []
    },
    {
      "cell_type": "markdown",
      "source": [
        "Genres sütunumuz birden fazla değer içerdiği için liste şeklinde bulunuyor. Bunun için one-hot encoding veya Label encoding yapabiliriz. Genres içerisindeki her türü virgülle ayırarak listeye dönüştürür. Her bir türe \"x\" adını verdik. Eğer her bir X(tür) string ise split() ile bölme işlemini uygular . Liste halinde ise işlem yapmadan bırakır."
      ],
      "metadata": {
        "id": "HfAWPsmwuOi1"
      }
    },
    {
      "cell_type": "code",
      "source": [
        "df['genres'] = df['genres'].apply(lambda x: ', '.join(x) if isinstance(x, list) else x)"
      ],
      "metadata": {
        "id": "5dm9rR20uQzN"
      },
      "execution_count": 74,
      "outputs": []
    },
    {
      "cell_type": "markdown",
      "source": [
        "# Veri Tabanımızı oluşturuyoruz"
      ],
      "metadata": {
        "id": "CWmi5ZBZuX_U"
      }
    },
    {
      "cell_type": "code",
      "source": [
        "conn = sqlite3.connect('filmler.db') #Filmler adın da database oluşturuyoruz.\n",
        "cursor=conn.cursor()                 #Cursor, database üzerinde sql sorgusu yapmamızı sağlar.\n",
        "\n",
        "# Film bilgilerini içeren tablomuzu oluşturuyoruz.\n",
        "cursor.execute('''\n",
        "    CREATE TABLE IF NOT EXISTS filmler (\n",
        "        title TEXT,\n",
        "        metascore INTEGER,\n",
        "        user_score REAL,\n",
        "        year INTEGER,\n",
        "        summary TEXT,\n",
        "        production_company TEXT,\n",
        "        release_date TEXT,\n",
        "        duration TEXT,\n",
        "        rating TEXT,\n",
        "        genres TEXT,\n",
        "        url TEXT\n",
        "    )\n",
        "''')\n",
        "\n",
        "# Pandas dataFrame'ine çevirdiğimiz dosyamızı filmler veritabanına tablo olarak aktarıyoruz.\n",
        "df.to_sql('filmler', conn, if_exists='replace', index=False)\n",
        "\n",
        "conn.close()"
      ],
      "metadata": {
        "id": "-XTIU38nubPQ"
      },
      "execution_count": 75,
      "outputs": []
    },
    {
      "cell_type": "code",
      "source": [],
      "metadata": {
        "id": "7bIjc3oguhU4"
      },
      "execution_count": 75,
      "outputs": []
    },
    {
      "cell_type": "markdown",
      "source": [
        "# İşbirlikçi ve İçerik Tabanlı Filtrelemenin Uygulanması"
      ],
      "metadata": {
        "id": "NqiXGOmuuitG"
      }
    },
    {
      "cell_type": "markdown",
      "source": [
        "Öneri sistemimizi uygulamak için içerik bazlı filtreleme kullanıyoruz."
      ],
      "metadata": {
        "id": "QVm7r1xrukNp"
      }
    },
    {
      "cell_type": "markdown",
      "source": [
        "Girdi olarak verilen bir film için benzer içerikli filmlerin bulunmasını istiyoruz"
      ],
      "metadata": {
        "id": "SMdTkiCwumfX"
      }
    },
    {
      "cell_type": "code",
      "source": [
        "#Filmler veritabanımıza bağlanıyoruz. Ve verileri çekiyoruz.\n",
        "conn = sqlite3.connect('filmler.db')\n",
        "df = pd.read_sql_query(\"SELECT * FROM filmler\", conn)\n",
        "conn.close()"
      ],
      "metadata": {
        "id": "zPpYkw57uohg"
      },
      "execution_count": 76,
      "outputs": []
    },
    {
      "cell_type": "code",
      "source": [
        "df.head()"
      ],
      "metadata": {
        "colab": {
          "base_uri": "https://localhost:8080/",
          "height": 573
        },
        "id": "F6g3SaLSuqTq",
        "outputId": "c6a9cb61-9ac8-4f4d-86fe-4f5d42c10b55"
      },
      "execution_count": 77,
      "outputs": [
        {
          "output_type": "execute_result",
          "data": {
            "text/plain": [
              "                          title  metascore  user_score    year  \\\n",
              "0                 Seven Samurai       98.0         9.0  1956.0   \n",
              "1                     Pinocchio       99.0         8.2  1940.0   \n",
              "2  4 Months, 3 Weeks and 2 Days       97.0         8.0  2008.0   \n",
              "3                        Psycho       97.0         8.9  1960.0   \n",
              "4                   Ratatouille       96.0         8.5  2007.0   \n",
              "\n",
              "                                             summary  \\\n",
              "0  Seven Samurai (Shichinin no samurai) tells the...   \n",
              "1  A living puppet, with the help of a cricket as...   \n",
              "2  During the final days of communism in Romania,...   \n",
              "3  A Phoenix secretary embezzles $40,000 from her...   \n",
              "4  Despite his sensational sniffer and sophistica...   \n",
              "\n",
              "                                  production_company  release_date  duration  \\\n",
              "0                                               Toho  Nov 19, 1956  3 h 27 m   \n",
              "1                      Walt Disney Animation Studios  Feb 23, 1940  1 h 28 m   \n",
              "2  Mobra Films,\\n        Centrul National al Cine...  Jan 23, 2008  1 h 53 m   \n",
              "3  Alfred J. Hitchcock Productions,\\n        Sham...   Sep 8, 1960  1 h 49 m   \n",
              "4  Walt Disney Pictures,\\n        Pixar Animation...  Jun 29, 2007  1 h 51 m   \n",
              "\n",
              "      rating                                             genres  \\\n",
              "0  Not Rated                                      Action, Drama   \n",
              "1     Passed  Animation, Adventure, Comedy, Family, Fantasy,...   \n",
              "2  Not Rated                                              Drama   \n",
              "3      TV-14                          Horror, Mystery, Thriller   \n",
              "4       TV-G      Animation, Adventure, Comedy, Family, Fantasy   \n",
              "\n",
              "                                                 url  \n",
              "0  https://www.metacritic.com/movie/seven-samurai...  \n",
              "1   https://www.metacritic.com/movie/pinocchio-1940/  \n",
              "2  https://www.metacritic.com/movie/4-months-3-we...  \n",
              "3      https://www.metacritic.com/movie/psycho-1960/  \n",
              "4      https://www.metacritic.com/movie/ratatouille/  "
            ],
            "text/html": [
              "\n",
              "  <div id=\"df-8db7bc2b-4365-497d-b403-5ed04916c17c\" class=\"colab-df-container\">\n",
              "    <div>\n",
              "<style scoped>\n",
              "    .dataframe tbody tr th:only-of-type {\n",
              "        vertical-align: middle;\n",
              "    }\n",
              "\n",
              "    .dataframe tbody tr th {\n",
              "        vertical-align: top;\n",
              "    }\n",
              "\n",
              "    .dataframe thead th {\n",
              "        text-align: right;\n",
              "    }\n",
              "</style>\n",
              "<table border=\"1\" class=\"dataframe\">\n",
              "  <thead>\n",
              "    <tr style=\"text-align: right;\">\n",
              "      <th></th>\n",
              "      <th>title</th>\n",
              "      <th>metascore</th>\n",
              "      <th>user_score</th>\n",
              "      <th>year</th>\n",
              "      <th>summary</th>\n",
              "      <th>production_company</th>\n",
              "      <th>release_date</th>\n",
              "      <th>duration</th>\n",
              "      <th>rating</th>\n",
              "      <th>genres</th>\n",
              "      <th>url</th>\n",
              "    </tr>\n",
              "  </thead>\n",
              "  <tbody>\n",
              "    <tr>\n",
              "      <th>0</th>\n",
              "      <td>Seven Samurai</td>\n",
              "      <td>98.0</td>\n",
              "      <td>9.0</td>\n",
              "      <td>1956.0</td>\n",
              "      <td>Seven Samurai (Shichinin no samurai) tells the...</td>\n",
              "      <td>Toho</td>\n",
              "      <td>Nov 19, 1956</td>\n",
              "      <td>3 h 27 m</td>\n",
              "      <td>Not Rated</td>\n",
              "      <td>Action, Drama</td>\n",
              "      <td>https://www.metacritic.com/movie/seven-samurai...</td>\n",
              "    </tr>\n",
              "    <tr>\n",
              "      <th>1</th>\n",
              "      <td>Pinocchio</td>\n",
              "      <td>99.0</td>\n",
              "      <td>8.2</td>\n",
              "      <td>1940.0</td>\n",
              "      <td>A living puppet, with the help of a cricket as...</td>\n",
              "      <td>Walt Disney Animation Studios</td>\n",
              "      <td>Feb 23, 1940</td>\n",
              "      <td>1 h 28 m</td>\n",
              "      <td>Passed</td>\n",
              "      <td>Animation, Adventure, Comedy, Family, Fantasy,...</td>\n",
              "      <td>https://www.metacritic.com/movie/pinocchio-1940/</td>\n",
              "    </tr>\n",
              "    <tr>\n",
              "      <th>2</th>\n",
              "      <td>4 Months, 3 Weeks and 2 Days</td>\n",
              "      <td>97.0</td>\n",
              "      <td>8.0</td>\n",
              "      <td>2008.0</td>\n",
              "      <td>During the final days of communism in Romania,...</td>\n",
              "      <td>Mobra Films,\\n        Centrul National al Cine...</td>\n",
              "      <td>Jan 23, 2008</td>\n",
              "      <td>1 h 53 m</td>\n",
              "      <td>Not Rated</td>\n",
              "      <td>Drama</td>\n",
              "      <td>https://www.metacritic.com/movie/4-months-3-we...</td>\n",
              "    </tr>\n",
              "    <tr>\n",
              "      <th>3</th>\n",
              "      <td>Psycho</td>\n",
              "      <td>97.0</td>\n",
              "      <td>8.9</td>\n",
              "      <td>1960.0</td>\n",
              "      <td>A Phoenix secretary embezzles $40,000 from her...</td>\n",
              "      <td>Alfred J. Hitchcock Productions,\\n        Sham...</td>\n",
              "      <td>Sep 8, 1960</td>\n",
              "      <td>1 h 49 m</td>\n",
              "      <td>TV-14</td>\n",
              "      <td>Horror, Mystery, Thriller</td>\n",
              "      <td>https://www.metacritic.com/movie/psycho-1960/</td>\n",
              "    </tr>\n",
              "    <tr>\n",
              "      <th>4</th>\n",
              "      <td>Ratatouille</td>\n",
              "      <td>96.0</td>\n",
              "      <td>8.5</td>\n",
              "      <td>2007.0</td>\n",
              "      <td>Despite his sensational sniffer and sophistica...</td>\n",
              "      <td>Walt Disney Pictures,\\n        Pixar Animation...</td>\n",
              "      <td>Jun 29, 2007</td>\n",
              "      <td>1 h 51 m</td>\n",
              "      <td>TV-G</td>\n",
              "      <td>Animation, Adventure, Comedy, Family, Fantasy</td>\n",
              "      <td>https://www.metacritic.com/movie/ratatouille/</td>\n",
              "    </tr>\n",
              "  </tbody>\n",
              "</table>\n",
              "</div>\n",
              "    <div class=\"colab-df-buttons\">\n",
              "\n",
              "  <div class=\"colab-df-container\">\n",
              "    <button class=\"colab-df-convert\" onclick=\"convertToInteractive('df-8db7bc2b-4365-497d-b403-5ed04916c17c')\"\n",
              "            title=\"Convert this dataframe to an interactive table.\"\n",
              "            style=\"display:none;\">\n",
              "\n",
              "  <svg xmlns=\"http://www.w3.org/2000/svg\" height=\"24px\" viewBox=\"0 -960 960 960\">\n",
              "    <path d=\"M120-120v-720h720v720H120Zm60-500h600v-160H180v160Zm220 220h160v-160H400v160Zm0 220h160v-160H400v160ZM180-400h160v-160H180v160Zm440 0h160v-160H620v160ZM180-180h160v-160H180v160Zm440 0h160v-160H620v160Z\"/>\n",
              "  </svg>\n",
              "    </button>\n",
              "\n",
              "  <style>\n",
              "    .colab-df-container {\n",
              "      display:flex;\n",
              "      gap: 12px;\n",
              "    }\n",
              "\n",
              "    .colab-df-convert {\n",
              "      background-color: #E8F0FE;\n",
              "      border: none;\n",
              "      border-radius: 50%;\n",
              "      cursor: pointer;\n",
              "      display: none;\n",
              "      fill: #1967D2;\n",
              "      height: 32px;\n",
              "      padding: 0 0 0 0;\n",
              "      width: 32px;\n",
              "    }\n",
              "\n",
              "    .colab-df-convert:hover {\n",
              "      background-color: #E2EBFA;\n",
              "      box-shadow: 0px 1px 2px rgba(60, 64, 67, 0.3), 0px 1px 3px 1px rgba(60, 64, 67, 0.15);\n",
              "      fill: #174EA6;\n",
              "    }\n",
              "\n",
              "    .colab-df-buttons div {\n",
              "      margin-bottom: 4px;\n",
              "    }\n",
              "\n",
              "    [theme=dark] .colab-df-convert {\n",
              "      background-color: #3B4455;\n",
              "      fill: #D2E3FC;\n",
              "    }\n",
              "\n",
              "    [theme=dark] .colab-df-convert:hover {\n",
              "      background-color: #434B5C;\n",
              "      box-shadow: 0px 1px 3px 1px rgba(0, 0, 0, 0.15);\n",
              "      filter: drop-shadow(0px 1px 2px rgba(0, 0, 0, 0.3));\n",
              "      fill: #FFFFFF;\n",
              "    }\n",
              "  </style>\n",
              "\n",
              "    <script>\n",
              "      const buttonEl =\n",
              "        document.querySelector('#df-8db7bc2b-4365-497d-b403-5ed04916c17c button.colab-df-convert');\n",
              "      buttonEl.style.display =\n",
              "        google.colab.kernel.accessAllowed ? 'block' : 'none';\n",
              "\n",
              "      async function convertToInteractive(key) {\n",
              "        const element = document.querySelector('#df-8db7bc2b-4365-497d-b403-5ed04916c17c');\n",
              "        const dataTable =\n",
              "          await google.colab.kernel.invokeFunction('convertToInteractive',\n",
              "                                                    [key], {});\n",
              "        if (!dataTable) return;\n",
              "\n",
              "        const docLinkHtml = 'Like what you see? Visit the ' +\n",
              "          '<a target=\"_blank\" href=https://colab.research.google.com/notebooks/data_table.ipynb>data table notebook</a>'\n",
              "          + ' to learn more about interactive tables.';\n",
              "        element.innerHTML = '';\n",
              "        dataTable['output_type'] = 'display_data';\n",
              "        await google.colab.output.renderOutput(dataTable, element);\n",
              "        const docLink = document.createElement('div');\n",
              "        docLink.innerHTML = docLinkHtml;\n",
              "        element.appendChild(docLink);\n",
              "      }\n",
              "    </script>\n",
              "  </div>\n",
              "\n",
              "\n",
              "<div id=\"df-bcf86fe0-da91-4bfa-94cf-69471d757cd1\">\n",
              "  <button class=\"colab-df-quickchart\" onclick=\"quickchart('df-bcf86fe0-da91-4bfa-94cf-69471d757cd1')\"\n",
              "            title=\"Suggest charts\"\n",
              "            style=\"display:none;\">\n",
              "\n",
              "<svg xmlns=\"http://www.w3.org/2000/svg\" height=\"24px\"viewBox=\"0 0 24 24\"\n",
              "     width=\"24px\">\n",
              "    <g>\n",
              "        <path d=\"M19 3H5c-1.1 0-2 .9-2 2v14c0 1.1.9 2 2 2h14c1.1 0 2-.9 2-2V5c0-1.1-.9-2-2-2zM9 17H7v-7h2v7zm4 0h-2V7h2v10zm4 0h-2v-4h2v4z\"/>\n",
              "    </g>\n",
              "</svg>\n",
              "  </button>\n",
              "\n",
              "<style>\n",
              "  .colab-df-quickchart {\n",
              "      --bg-color: #E8F0FE;\n",
              "      --fill-color: #1967D2;\n",
              "      --hover-bg-color: #E2EBFA;\n",
              "      --hover-fill-color: #174EA6;\n",
              "      --disabled-fill-color: #AAA;\n",
              "      --disabled-bg-color: #DDD;\n",
              "  }\n",
              "\n",
              "  [theme=dark] .colab-df-quickchart {\n",
              "      --bg-color: #3B4455;\n",
              "      --fill-color: #D2E3FC;\n",
              "      --hover-bg-color: #434B5C;\n",
              "      --hover-fill-color: #FFFFFF;\n",
              "      --disabled-bg-color: #3B4455;\n",
              "      --disabled-fill-color: #666;\n",
              "  }\n",
              "\n",
              "  .colab-df-quickchart {\n",
              "    background-color: var(--bg-color);\n",
              "    border: none;\n",
              "    border-radius: 50%;\n",
              "    cursor: pointer;\n",
              "    display: none;\n",
              "    fill: var(--fill-color);\n",
              "    height: 32px;\n",
              "    padding: 0;\n",
              "    width: 32px;\n",
              "  }\n",
              "\n",
              "  .colab-df-quickchart:hover {\n",
              "    background-color: var(--hover-bg-color);\n",
              "    box-shadow: 0 1px 2px rgba(60, 64, 67, 0.3), 0 1px 3px 1px rgba(60, 64, 67, 0.15);\n",
              "    fill: var(--button-hover-fill-color);\n",
              "  }\n",
              "\n",
              "  .colab-df-quickchart-complete:disabled,\n",
              "  .colab-df-quickchart-complete:disabled:hover {\n",
              "    background-color: var(--disabled-bg-color);\n",
              "    fill: var(--disabled-fill-color);\n",
              "    box-shadow: none;\n",
              "  }\n",
              "\n",
              "  .colab-df-spinner {\n",
              "    border: 2px solid var(--fill-color);\n",
              "    border-color: transparent;\n",
              "    border-bottom-color: var(--fill-color);\n",
              "    animation:\n",
              "      spin 1s steps(1) infinite;\n",
              "  }\n",
              "\n",
              "  @keyframes spin {\n",
              "    0% {\n",
              "      border-color: transparent;\n",
              "      border-bottom-color: var(--fill-color);\n",
              "      border-left-color: var(--fill-color);\n",
              "    }\n",
              "    20% {\n",
              "      border-color: transparent;\n",
              "      border-left-color: var(--fill-color);\n",
              "      border-top-color: var(--fill-color);\n",
              "    }\n",
              "    30% {\n",
              "      border-color: transparent;\n",
              "      border-left-color: var(--fill-color);\n",
              "      border-top-color: var(--fill-color);\n",
              "      border-right-color: var(--fill-color);\n",
              "    }\n",
              "    40% {\n",
              "      border-color: transparent;\n",
              "      border-right-color: var(--fill-color);\n",
              "      border-top-color: var(--fill-color);\n",
              "    }\n",
              "    60% {\n",
              "      border-color: transparent;\n",
              "      border-right-color: var(--fill-color);\n",
              "    }\n",
              "    80% {\n",
              "      border-color: transparent;\n",
              "      border-right-color: var(--fill-color);\n",
              "      border-bottom-color: var(--fill-color);\n",
              "    }\n",
              "    90% {\n",
              "      border-color: transparent;\n",
              "      border-bottom-color: var(--fill-color);\n",
              "    }\n",
              "  }\n",
              "</style>\n",
              "\n",
              "  <script>\n",
              "    async function quickchart(key) {\n",
              "      const quickchartButtonEl =\n",
              "        document.querySelector('#' + key + ' button');\n",
              "      quickchartButtonEl.disabled = true;  // To prevent multiple clicks.\n",
              "      quickchartButtonEl.classList.add('colab-df-spinner');\n",
              "      try {\n",
              "        const charts = await google.colab.kernel.invokeFunction(\n",
              "            'suggestCharts', [key], {});\n",
              "      } catch (error) {\n",
              "        console.error('Error during call to suggestCharts:', error);\n",
              "      }\n",
              "      quickchartButtonEl.classList.remove('colab-df-spinner');\n",
              "      quickchartButtonEl.classList.add('colab-df-quickchart-complete');\n",
              "    }\n",
              "    (() => {\n",
              "      let quickchartButtonEl =\n",
              "        document.querySelector('#df-bcf86fe0-da91-4bfa-94cf-69471d757cd1 button');\n",
              "      quickchartButtonEl.style.display =\n",
              "        google.colab.kernel.accessAllowed ? 'block' : 'none';\n",
              "    })();\n",
              "  </script>\n",
              "</div>\n",
              "\n",
              "    </div>\n",
              "  </div>\n"
            ],
            "application/vnd.google.colaboratory.intrinsic+json": {
              "type": "dataframe",
              "variable_name": "df",
              "summary": "{\n  \"name\": \"df\",\n  \"rows\": 16363,\n  \"fields\": [\n    {\n      \"column\": \"title\",\n      \"properties\": {\n        \"dtype\": \"string\",\n        \"num_unique_values\": 15789,\n        \"samples\": [\n          \"Pusher\",\n          \"Eno\",\n          \"Hair\"\n        ],\n        \"semantic_type\": \"\",\n        \"description\": \"\"\n      }\n    },\n    {\n      \"column\": \"metascore\",\n      \"properties\": {\n        \"dtype\": \"number\",\n        \"std\": 17.08414419372597,\n        \"min\": 1.0,\n        \"max\": 100.0,\n        \"num_unique_values\": 98,\n        \"samples\": [\n          37.0,\n          59.0,\n          9.0\n        ],\n        \"semantic_type\": \"\",\n        \"description\": \"\"\n      }\n    },\n    {\n      \"column\": \"user_score\",\n      \"properties\": {\n        \"dtype\": \"number\",\n        \"std\": 1.1098857699357316,\n        \"min\": 0.4,\n        \"max\": 10.0,\n        \"num_unique_values\": 93,\n        \"samples\": [\n          4.8,\n          6.8,\n          1.9\n        ],\n        \"semantic_type\": \"\",\n        \"description\": \"\"\n      }\n    },\n    {\n      \"column\": \"year\",\n      \"properties\": {\n        \"dtype\": \"number\",\n        \"std\": 15.120837841718874,\n        \"min\": 1916.0,\n        \"max\": 2024.0,\n        \"num_unique_values\": 99,\n        \"samples\": [\n          1998.0,\n          2009.0,\n          1944.0\n        ],\n        \"semantic_type\": \"\",\n        \"description\": \"\"\n      }\n    },\n    {\n      \"column\": \"summary\",\n      \"properties\": {\n        \"dtype\": \"string\",\n        \"num_unique_values\": 16359,\n        \"samples\": [\n          \"An unlikely basketball team of unappreciated middle-aged Texas women, all former high school champs, challenge the current arrogant high school state champs to a series of games to raise money for breast cancer prevention.\",\n          \"A quantum physicist (Mary-Louise Parker) finds herself stuck in a time loop, with a black hole growing in her chest and only a week to live. When she meets a gifted student (Ayo Edibiri), they team up to save her life \\u2014 and to unlock the mysteries of time travel.\",\n          \"Ronnie runs a Disco walking tour with his son, Brayden. When a sexy woman takes the tour, it begins a competition between father and son for her love. It also signals the arrival of an oily strangler who stalks the streets at night.\"\n        ],\n        \"semantic_type\": \"\",\n        \"description\": \"\"\n      }\n    },\n    {\n      \"column\": \"production_company\",\n      \"properties\": {\n        \"dtype\": \"string\",\n        \"num_unique_values\": 14876,\n        \"samples\": [\n          \"Blumhouse Productions,\\n        Ahimsa Films,\\n        Blue-Tongue Films\",\n          \"Sports Studio\",\n          \"Dreamworks Pictures\"\n        ],\n        \"semantic_type\": \"\",\n        \"description\": \"\"\n      }\n    },\n    {\n      \"column\": \"release_date\",\n      \"properties\": {\n        \"dtype\": \"object\",\n        \"num_unique_values\": 4435,\n        \"samples\": [\n          \"Apr 12, 1996\",\n          \"Jan 11, 2019\",\n          \"Mar 26, 1997\"\n        ],\n        \"semantic_type\": \"\",\n        \"description\": \"\"\n      }\n    },\n    {\n      \"column\": \"duration\",\n      \"properties\": {\n        \"dtype\": \"category\",\n        \"num_unique_values\": 203,\n        \"samples\": [\n          \"1 h 34 m\",\n          \"2 h\",\n          \"1 h 11 m\"\n        ],\n        \"semantic_type\": \"\",\n        \"description\": \"\"\n      }\n    },\n    {\n      \"column\": \"rating\",\n      \"properties\": {\n        \"dtype\": \"category\",\n        \"num_unique_values\": 25,\n        \"samples\": [\n          \"unknown\",\n          \"18+\",\n          \"Not Rated\"\n        ],\n        \"semantic_type\": \"\",\n        \"description\": \"\"\n      }\n    },\n    {\n      \"column\": \"genres\",\n      \"properties\": {\n        \"dtype\": \"category\",\n        \"num_unique_values\": 1796,\n        \"samples\": [\n          \"Documentary, Adventure, Biography\",\n          \"Adventure, Drama, Family\",\n          \"Documentary, Adventure, Drama, Sci-Fi\"\n        ],\n        \"semantic_type\": \"\",\n        \"description\": \"\"\n      }\n    },\n    {\n      \"column\": \"url\",\n      \"properties\": {\n        \"dtype\": \"string\",\n        \"num_unique_values\": 16363,\n        \"samples\": [\n          \"https://www.metacritic.com/movie/willard/\",\n          \"https://www.metacritic.com/movie/an-affair-of-love/\",\n          \"https://www.metacritic.com/movie/fort-apache-the-bronx/\"\n        ],\n        \"semantic_type\": \"\",\n        \"description\": \"\"\n      }\n    }\n  ]\n}"
            }
          },
          "metadata": {},
          "execution_count": 77
        }
      ]
    },
    {
      "cell_type": "code",
      "source": [
        "# TF-IDF vektörlerini oluşturma (sadece özet için)\n",
        "tfidf_summary = TfidfVectorizer(stop_words='english')\n",
        "tfidf_matrix_summary = tfidf_summary.fit_transform(df['summary']) #Matris oluşturuyoruz."
      ],
      "metadata": {
        "id": "MPBeju-LusOf"
      },
      "execution_count": 78,
      "outputs": []
    },
    {
      "cell_type": "markdown",
      "source": [
        "Önerimizi sunarken kosinüs benzerliği metodunu kullanacağız."
      ],
      "metadata": {
        "id": "R9eb4JuHu8UP"
      }
    },
    {
      "cell_type": "code",
      "source": [
        "# Kosinüs benzerliğini hesaplama (özet için)\n",
        "cosine_sim_summary = cosine_similarity(tfidf_matrix_summary, tfidf_matrix_summary) #Burada summary için iki vektör arasındaki açıya bağlı bir skalar değer elde etmiş oluyoruz."
      ],
      "metadata": {
        "id": "vrAUuX5qu82Y"
      },
      "execution_count": 79,
      "outputs": []
    },
    {
      "cell_type": "code",
      "source": [
        "# Önce NaN değerleri boş bir listeye çevirin ve türleri ayırın\n",
        "df['genres'] = df['genres'].apply(lambda x: x.split(', ') if isinstance(x, str) else [])\n",
        "\n",
        "# MultiLabelBinarizer ile türleri dönüştürme\n",
        "mlb = MultiLabelBinarizer()\n",
        "genres_encoded = mlb.fit_transform(df['genres'])  # Burada df['genres'] doğru formatta olmalı\n",
        "genres_df = pd.DataFrame(genres_encoded, columns=mlb.classes_, index=df.index)\n",
        "\n",
        "print(genres_df.head())  # Oluşan genres_df'in doğru olup olmadığını görmek için\n"
      ],
      "metadata": {
        "colab": {
          "base_uri": "https://localhost:8080/"
        },
        "id": "t-Fx4Fd-u_eU",
        "outputId": "6a067445-5400-4679-b6b6-a262f1e33ce3"
      },
      "execution_count": 80,
      "outputs": [
        {
          "output_type": "stream",
          "name": "stdout",
          "text": [
            "      Action  Adventure  Animation  Biography  Comedy  Crime  Documentary  \\\n",
            "0  0       1          0          0          0       0      0            0   \n",
            "1  0       0          1          1          0       1      0            0   \n",
            "2  0       0          0          0          0       0      0            0   \n",
            "3  0       0          0          0          0       0      0            0   \n",
            "4  0       0          1          1          0       1      0            0   \n",
            "\n",
            "   Drama  Family  ...  News  Reality-TV  Romance  Sci-Fi  Sport  Talk-Show  \\\n",
            "0      1       0  ...     0           0        0       0      0          0   \n",
            "1      0       1  ...     0           0        0       0      0          0   \n",
            "2      1       0  ...     0           0        0       0      0          0   \n",
            "3      0       0  ...     0           0        0       0      0          0   \n",
            "4      0       1  ...     0           0        0       0      0          0   \n",
            "\n",
            "   Thriller  Unknown  War  Western  \n",
            "0         0        0    0        0  \n",
            "1         0        0    0        0  \n",
            "2         0        0    0        0  \n",
            "3         1        0    0        0  \n",
            "4         0        0    0        0  \n",
            "\n",
            "[5 rows x 28 columns]\n"
          ]
        }
      ]
    },
    {
      "cell_type": "code",
      "source": [
        "# Kosinüs benzerliğini hesaplama (türler için)\n",
        "cosine_sim_genres = cosine_similarity(genres_df, genres_df)                      #Burada genres için iki vektör arasındaki açıya bağlı bir skalar değer elde etmiş oluyoruz.\n"
      ],
      "metadata": {
        "id": "g0a-NqbdvBhR"
      },
      "execution_count": 81,
      "outputs": []
    },
    {
      "cell_type": "code",
      "source": [
        "# İki benzerlik skorunu birleştirme (örneğin, ortalama alarak)\n",
        "combined_cosine_sim = (cosine_sim_summary + cosine_sim_genres) / 2"
      ],
      "metadata": {
        "id": "11wfpXHkvEIL"
      },
      "execution_count": 82,
      "outputs": []
    },
    {
      "cell_type": "markdown",
      "source": [
        "Şimdi bir fonksiyon ile bu benzerliklere göre önerileri getiren bir fonksiyon uyguluyoruz."
      ],
      "metadata": {
        "id": "W7DyzTXOvHxJ"
      }
    },
    {
      "cell_type": "code",
      "source": [
        " # Film isimlerini 'title' alanına göre indeksleyelim\n",
        "indices = pd.Series(df.index, index=df['title']).drop_duplicates()"
      ],
      "metadata": {
        "id": "iB2F3neAvJ2l"
      },
      "execution_count": 83,
      "outputs": []
    },
    {
      "cell_type": "code",
      "source": [
        "def reco(title, combined_cosine_sim=combined_cosine_sim, df=df):\n",
        "\n",
        "    idx = indices[title]\n",
        "\n",
        "    sim_scores = list(enumerate(combined_cosine_sim[idx]))\n",
        "\n",
        "    sim_scores = sorted(sim_scores, key=lambda x: x[1][0] if isinstance(x[1], (np.ndarray, list)) else x[1], reverse=True)       #(sim_scores, key=lambda x: x[1], reverse=True)\n",
        "\n",
        "    sim_scores = sim_scores[1:11]\n",
        "\n",
        "    film_indices = [i[0] for i in sim_scores]\n",
        "\n",
        "    # En benzer filmleri döndürür\n",
        "    return df['title'].iloc[film_indices]\n",
        "\n",
        "# NumPy'ı içe aktar\n",
        "#import numpy as np\n",
        "\n",
        "oneriler = reco(\"Harry Potter and the Prisoner of Azkaban\")\n",
        "print(\"Önerilen Filmler:\")\n",
        "print(oneriler)\n"
      ],
      "metadata": {
        "colab": {
          "base_uri": "https://localhost:8080/"
        },
        "id": "vdtlwpunvMBw",
        "outputId": "6e3a8a7e-d232-413d-a376-87bbf234d52f"
      },
      "execution_count": 84,
      "outputs": [
        {
          "output_type": "stream",
          "name": "stdout",
          "text": [
            "Önerilen Filmler:\n",
            "9354          Harry Potter and the Chamber of Secrets\n",
            "9925     Harry Potter and the Deathly Hallows: Part I\n",
            "14838             Harry Potter and the Goblet of Fire\n",
            "12289       Harry Potter and the Order of the Phoenix\n",
            "15623    Harry Potter and the Deathly Hallows: Part 2\n",
            "14193          Harry Potter and the Half-Blood Prince\n",
            "3711                                     Return to Oz\n",
            "10198           Harry Potter and the Sorcerer's Stone\n",
            "6527                              Alice in Wonderland\n",
            "2578                  Alice Through the Looking Glass\n",
            "Name: title, dtype: object\n"
          ]
        }
      ]
    },
    {
      "cell_type": "code",
      "source": [],
      "metadata": {
        "id": "w02uCct9GVDQ"
      },
      "execution_count": 84,
      "outputs": []
    },
    {
      "cell_type": "markdown",
      "source": [
        "# Derin Öğrenme İle Tavsiye Sisteminin İyileştirilmesi\n"
      ],
      "metadata": {
        "id": "Z2DJ6jOqGV_H"
      }
    },
    {
      "cell_type": "code",
      "source": [
        "conn = sqlite3.connect('filmler.db')\n",
        "df = pd.read_sql_query(\"SELECT * FROM filmler\", conn)\n",
        "conn.close()"
      ],
      "metadata": {
        "id": "E51FcWQHJFhm"
      },
      "execution_count": 85,
      "outputs": []
    },
    {
      "cell_type": "code",
      "source": [
        "# 2. Özet ve Tür Vektörlerinin Oluşturulması\n",
        "# TF-IDF vektörleri oluşturma (sadece özet için)\n",
        "tfidf_summary = TfidfVectorizer(stop_words='english', max_features=5000)\n",
        "tfidf_matrix_summary = tfidf_summary.fit_transform(df['summary'])"
      ],
      "metadata": {
        "id": "tpByGNW3JMfu"
      },
      "execution_count": 86,
      "outputs": []
    },
    {
      "cell_type": "code",
      "source": [
        "# Türlerin çok etiketli (multi-label) formatta kodlanması\n",
        "df['genres'] = df['genres'].apply(lambda x: x.split(', ') if isinstance(x, str) else [])\n",
        "mlb = MultiLabelBinarizer()\n",
        "genres_encoded = mlb.fit_transform(df['genres'])\n",
        "genres_df = pd.DataFrame(genres_encoded, columns=mlb.classes_, index=df.index)"
      ],
      "metadata": {
        "id": "GjLee5NFJQmF"
      },
      "execution_count": 87,
      "outputs": []
    },
    {
      "cell_type": "code",
      "source": [
        "# TF-IDF matrisini PyTorch tensörüne dönüştür\n",
        "summary_tensor = torch.tensor(tfidf_matrix_summary.toarray(), dtype=torch.float32)\n",
        "genres_tensor = torch.tensor(genres_encoded, dtype=torch.float32)"
      ],
      "metadata": {
        "id": "UFDe17OAJTNx"
      },
      "execution_count": 88,
      "outputs": []
    },
    {
      "cell_type": "code",
      "source": [
        "# 3. Model Tanımı\n",
        "class MovieRecommendationModel(nn.Module):\n",
        "    def __init__(self, summary_dim, genres_dim, embedding_dim=128):\n",
        "        super(MovieRecommendationModel, self).__init__()\n",
        "\n",
        "        # Özet için tam bağlantılı katman\n",
        "        self.summary_fc = nn.Linear(summary_dim, embedding_dim)\n",
        "        self.genres_fc = nn.Linear(genres_dim, embedding_dim)\n",
        "\n",
        "        # Çıkış katmanı\n",
        "        self.output = nn.Linear(embedding_dim, embedding_dim)\n",
        "        self.relu = nn.ReLU()\n",
        "\n",
        "    def forward(self, summary_vector, genres_vector):\n",
        "        summary_embedding = self.relu(self.summary_fc(summary_vector))\n",
        "        genres_embedding = self.relu(self.genres_fc(genres_vector))\n",
        "\n",
        "        # Özellikleri birleştirme\n",
        "        combined = summary_embedding + genres_embedding\n",
        "        combined = self.output(combined)\n",
        "\n",
        "        # Normalizasyon (benzerlik ölçümü için)\n",
        "        return combined / combined.norm(dim=1, keepdim=True)"
      ],
      "metadata": {
        "id": "46ZdNOJCJWgF"
      },
      "execution_count": 89,
      "outputs": []
    },
    {
      "cell_type": "code",
      "source": [
        "# Modeli başlat\n",
        "summary_dim = summary_tensor.shape[1]\n",
        "genres_dim = genres_tensor.shape[1]\n",
        "embedding_dim = 128"
      ],
      "metadata": {
        "id": "R8Ws99R3JZuh"
      },
      "execution_count": 90,
      "outputs": []
    },
    {
      "cell_type": "code",
      "source": [
        "model = MovieRecommendationModel(summary_dim, genres_dim, embedding_dim)"
      ],
      "metadata": {
        "id": "PvLaof-PJcrK"
      },
      "execution_count": 91,
      "outputs": []
    },
    {
      "cell_type": "code",
      "source": [
        "# 4. Öneri Yapma Fonksiyonu\n",
        "def recommend_movies(title, model, df, top_k=10):\n",
        "    # Belirtilen filmin özet ve tür vektörlerini al\n",
        "    idx = df[df['title'] == title].index[0]\n",
        "    summary_vector = summary_tensor[idx]\n",
        "    genres_vector = genres_tensor[idx]\n",
        "\n",
        "    # Modelden film vektörlerini al\n",
        "    with torch.no_grad():\n",
        "        movie_embeddings = model(summary_tensor, genres_tensor)\n",
        "\n",
        "    # Seçili film için vektör çıkar\n",
        "    selected_movie_embedding = movie_embeddings[idx].unsqueeze(0)\n",
        "\n",
        "    # Kosinüs benzerlik hesaplama\n",
        "    similarities = torch.mm(selected_movie_embedding, movie_embeddings.T).squeeze(0)\n",
        "    _, top_indices = torch.topk(similarities, top_k + 1)  # İlk filmi kendisi olarak sayar\n",
        "\n",
        "    # Önerilen filmleri al\n",
        "    recommended_movies = df.iloc[top_indices[1:].cpu().numpy()]['title']  # İlk film hariç diğerlerini al\n",
        "    return recommended_movies\n",
        "\n",
        "# Örnek bir film için öneriler\n",
        "movie_title = \"Harry Potter and the Prisoner of Azkaban\"\n",
        "recommended_movies = recommend_movies(movie_title, model, df)\n",
        "print(\"Önerilen Filmler:\")\n",
        "print(recommended_movies)"
      ],
      "metadata": {
        "colab": {
          "base_uri": "https://localhost:8080/"
        },
        "id": "18vAziyAJfYV",
        "outputId": "8594246f-98c0-4c4f-9c89-f67695da11f9"
      },
      "execution_count": 92,
      "outputs": [
        {
          "output_type": "stream",
          "name": "stdout",
          "text": [
            "Önerilen Filmler:\n",
            "14838                  Harry Potter and the Goblet of Fire\n",
            "9354               Harry Potter and the Chamber of Secrets\n",
            "9925          Harry Potter and the Deathly Hallows: Part I\n",
            "6527                                   Alice in Wonderland\n",
            "15623         Harry Potter and the Deathly Hallows: Part 2\n",
            "3711                                          Return to Oz\n",
            "2578                       Alice Through the Looking Glass\n",
            "10198                Harry Potter and the Sorcerer's Stone\n",
            "13594    The Chronicles of Narnia: The Lion, the Witch ...\n",
            "3247            The Adventurer: The Curse of the Midas Box\n",
            "Name: title, dtype: object\n"
          ]
        }
      ]
    },
    {
      "cell_type": "code",
      "source": [],
      "metadata": {
        "id": "if7-7D4GJTW_"
      },
      "execution_count": 92,
      "outputs": []
    },
    {
      "cell_type": "code",
      "source": [],
      "metadata": {
        "id": "Xsp5rC3VJTle"
      },
      "execution_count": 92,
      "outputs": []
    },
    {
      "cell_type": "markdown",
      "source": [
        "# Derin Öğrenme İle Tavsiye Sisteminin İyileştirilmesi- Loos Hesaplanması\n"
      ],
      "metadata": {
        "id": "Wh9gLySuwblJ"
      }
    },
    {
      "cell_type": "markdown",
      "source": [],
      "metadata": {
        "id": "LwgqD9xgwr7N"
      }
    },
    {
      "cell_type": "code",
      "source": [
        "# Veri yükleme\n",
        "conn = sqlite3.connect('filmler.db')\n",
        "df = pd.read_sql_query(\"SELECT * FROM filmler\", conn)\n",
        "conn.close()"
      ],
      "metadata": {
        "id": "Yp6y4qwFwsJy"
      },
      "execution_count": 93,
      "outputs": []
    },
    {
      "cell_type": "code",
      "source": [
        "tfidf_summary=TfidfVectorizer(stop_words='english',max_features=5000)#en fazla beş bin benzersiz kelime vektörü oluşturulur.\n",
        "tfidf_matrix_summary=tfidf_summary.fit_transform(df['summary'])"
      ],
      "metadata": {
        "id": "xNhOjsoWw1MN"
      },
      "execution_count": 94,
      "outputs": []
    },
    {
      "cell_type": "code",
      "source": [
        "df['genres'] = df['genres'].apply(lambda x: x.split(', ') if isinstance(x, str) else [])\n",
        "mlb = MultiLabelBinarizer()\n",
        "genres_encoded = mlb.fit_transform(df['genres'])\n",
        "genres_df = pd.DataFrame(genres_encoded, columns=mlb.classes_, index=df.index)"
      ],
      "metadata": {
        "id": "Sfv0aPNzxxqO"
      },
      "execution_count": 95,
      "outputs": []
    },
    {
      "cell_type": "code",
      "source": [
        "#Pytorch kullanabilmemiz için verilerimizi tensor'e çevirmeliyiz.\n",
        "summary_tensor = torch.tensor(tfidf_matrix_summary.toarray(), dtype=torch.float32)\n",
        "genres_tensor = torch.tensor(genres_encoded, dtype=torch.float32)"
      ],
      "metadata": {
        "id": "ySUSkDObx0sp"
      },
      "execution_count": 96,
      "outputs": []
    },
    {
      "cell_type": "code",
      "source": [
        "#Model Tanımı\n",
        "class MovieRecommendationModel(nn.Module):\n",
        "    def __init__(self, summary_dim, genres_dim, embedding_dim=128):\n",
        "        super(MovieRecommendationModel, self).__init__()\n",
        "        self.summary_fc = nn.Linear(summary_dim, embedding_dim)\n",
        "        self.genres_fc = nn.Linear(genres_dim, embedding_dim)\n",
        "        self.output = nn.Linear(embedding_dim, embedding_dim)\n",
        "        self.relu = nn.ReLU()\n",
        "\n",
        "    def forward(self, summary_vector, genres_vector):\n",
        "        summary_embedding = self.relu(self.summary_fc(summary_vector))\n",
        "        genres_embedding = self.relu(self.genres_fc(genres_vector))\n",
        "        combined = summary_embedding + genres_embedding\n",
        "        combined = self.output(combined)\n",
        "        return combined / combined.norm(dim=1, keepdim=True)\n"
      ],
      "metadata": {
        "id": "x7rw0Z3yx2lK"
      },
      "execution_count": 97,
      "outputs": []
    },
    {
      "cell_type": "code",
      "source": [
        "# Model Başlatma ve Optimizasyon Ayarları\n",
        "summary_dim = summary_tensor.shape[1]\n",
        "genres_dim = genres_tensor.shape[1]\n",
        "embedding_dim = 128"
      ],
      "metadata": {
        "id": "RuXTwoSVyC6J"
      },
      "execution_count": 98,
      "outputs": []
    },
    {
      "cell_type": "code",
      "source": [
        "model = MovieRecommendationModel(summary_dim, genres_dim, embedding_dim)\n",
        "optimizer = optim.Adam(model.parameters(), lr=0.001)\n",
        "cosine_loss = nn.CosineEmbeddingLoss()"
      ],
      "metadata": {
        "id": "GiXenaU2yF-2"
      },
      "execution_count": 99,
      "outputs": []
    },
    {
      "cell_type": "code",
      "source": [
        "# Eğitim Fonksiyonu\n",
        "def train(model, optimizer, epochs=10, batch_size=32):\n",
        "    for epoch in range(epochs):\n",
        "        model.train()\n",
        "        total_loss = 0\n",
        "        for i in range(0, len(df), batch_size):\n",
        "            batch_indices = np.random.choice(len(df), batch_size, replace=False)\n",
        "            summary_batch = summary_tensor[batch_indices]\n",
        "            genres_batch = genres_tensor[batch_indices]\n",
        "\n",
        "            # Pozitif örnekler (kendisiyle benzerlik)\n",
        "            output_pos = model(summary_batch, genres_batch)\n",
        "            target_pos = torch.ones(batch_size)\n",
        "\n",
        "            # Negatif örnekler (rastgele farklı film seçimi)\n",
        "            neg_indices = np.random.choice(len(df), batch_size, replace=False)\n",
        "            summary_neg = summary_tensor[neg_indices]\n",
        "            genres_neg = genres_tensor[neg_indices]\n",
        "            output_neg = model(summary_neg, genres_neg)\n",
        "            target_neg = -torch.ones(batch_size)\n",
        "\n",
        "            # Kayıp hesaplama (pozitif ve negatif örneklerle)\n",
        "            loss_pos = cosine_loss(output_pos, output_pos, target_pos)\n",
        "            loss_neg = cosine_loss(output_pos, output_neg, target_neg)\n",
        "            loss = (loss_pos + loss_neg) / 2\n",
        "\n",
        "            optimizer.zero_grad()\n",
        "            loss.backward()\n",
        "            optimizer.step()\n",
        "            total_loss += loss.item()\n",
        "\n",
        "        print(f\"Epoch {epoch+1}/{epochs}, Loss: {total_loss/len(df):.4f}\")"
      ],
      "metadata": {
        "id": "4p21LinwyKM3"
      },
      "execution_count": 100,
      "outputs": []
    },
    {
      "cell_type": "code",
      "source": [
        "# Modeli Eğit\n",
        "train(model, optimizer, epochs=10, batch_size=32)"
      ],
      "metadata": {
        "colab": {
          "base_uri": "https://localhost:8080/"
        },
        "id": "mwkjXTbbyK_a",
        "outputId": "04a69f26-c29b-47b2-f64e-bc8e247e545b"
      },
      "execution_count": 101,
      "outputs": [
        {
          "output_type": "stream",
          "name": "stdout",
          "text": [
            "Epoch 1/10, Loss: 0.0015\n",
            "Epoch 2/10, Loss: 0.0011\n",
            "Epoch 3/10, Loss: 0.0010\n",
            "Epoch 4/10, Loss: 0.0009\n",
            "Epoch 5/10, Loss: 0.0009\n",
            "Epoch 6/10, Loss: 0.0008\n",
            "Epoch 7/10, Loss: 0.0008\n",
            "Epoch 8/10, Loss: 0.0008\n",
            "Epoch 9/10, Loss: 0.0008\n",
            "Epoch 10/10, Loss: 0.0008\n"
          ]
        }
      ]
    },
    {
      "cell_type": "code",
      "source": [
        "# Öneri Fonksiyonu\n",
        "def recommend_movies(title, model, df, top_k=10):\n",
        "    idx = df[df['title'] == title].index[0]\n",
        "    summary_vector = summary_tensor[idx]\n",
        "    genres_vector = genres_tensor[idx]\n",
        "\n",
        "    with torch.no_grad():\n",
        "        movie_embeddings = model(summary_tensor, genres_tensor)\n",
        "\n",
        "    selected_movie_embedding = movie_embeddings[idx].unsqueeze(0)\n",
        "    similarities = torch.mm(selected_movie_embedding, movie_embeddings.T).squeeze(0)\n",
        "    _, top_indices = torch.topk(similarities, top_k + 1)\n",
        "\n",
        "    recommended_movies = df.iloc[top_indices[1:].cpu().numpy()]['title']\n",
        "    return recommended_movies\n",
        "\n",
        "# Öneri örneği\n",
        "movie_title = \"Harry Potter and the Prisoner of Azkaban\"\n",
        "recommended_movies = recommend_movies(movie_title, model, df)\n",
        "print(\"Önerilen Filmler:\")\n",
        "print(recommended_movies)"
      ],
      "metadata": {
        "colab": {
          "base_uri": "https://localhost:8080/"
        },
        "id": "ewgLvZxByMui",
        "outputId": "c3f8510b-3ba8-4bd5-f75d-0008c29f93dc"
      },
      "execution_count": 102,
      "outputs": [
        {
          "output_type": "stream",
          "name": "stdout",
          "text": [
            "Önerilen Filmler:\n",
            "9354          Harry Potter and the Chamber of Secrets\n",
            "9925     Harry Potter and the Deathly Hallows: Part I\n",
            "3711                                     Return to Oz\n",
            "14838             Harry Potter and the Goblet of Fire\n",
            "15623    Harry Potter and the Deathly Hallows: Part 2\n",
            "2578                  Alice Through the Looking Glass\n",
            "6527                              Alice in Wonderland\n",
            "2735                                       Scooby-Doo\n",
            "14193          Harry Potter and the Half-Blood Prince\n",
            "12289       Harry Potter and the Order of the Phoenix\n",
            "Name: title, dtype: object\n"
          ]
        }
      ]
    }
  ]
}